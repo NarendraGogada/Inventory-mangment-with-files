{
 "cells": [
  {
   "cell_type": "code",
   "execution_count": 18,
   "id": "197a145d",
   "metadata": {},
   "outputs": [],
   "source": [
    "fd=open('produt.txt','a')\n",
    "fd.close()"
   ]
  },
  {
   "cell_type": "code",
   "execution_count": 27,
   "id": "3b7aea39",
   "metadata": {},
   "outputs": [
    {
     "name": "stdout",
     "output_type": "stream",
     "text": [
      "what do you want buy\n",
      "please look into the menu \n",
      "enter the serial number: 4\n",
      "enter the quantity     : 5\n",
      "can i know your name please: nani\n",
      "what is your email id     : nani34@gmail.com\n",
      "what is your phone number : 5648793217\n",
      "----------------------------------------\n",
      "item bought            :  milk\n",
      "cost of the item       :  25\n",
      "quantity required      :  5\n",
      "-----------------------------------------\n",
      "billing amount         :  125\n",
      "-----------------------------------------\n"
     ]
    }
   ],
   "source": [
    "import time\n",
    "fd=open('produt.txt','r')\n",
    "product=fd.read()\n",
    "fd.close()\n",
    "product=product.split('\\n')\n",
    "print(\"what do you want buy\")\n",
    "print(\"please look into the menu \")\n",
    "serialno=input(\"enter the serial number: \")\n",
    "quantity=input(\"enter the quantity     : \")\n",
    "name=input(\"can i know your name please: \")\n",
    "email=input(\"what is your email id     : \")\n",
    "phone=input(\"what is your phone number : \")\n",
    "l=[]\n",
    "amount=0\n",
    "\n",
    "for i in product:\n",
    "    pdsp=i.split(',')\n",
    "    \n",
    "    if(int(serialno)==int(pdsp[0])):\n",
    "        if(int(pdsp[3])>=int(quantity)):\n",
    "            print(\"----------------------------------------\")\n",
    "            print(\"item bought            : \",pdsp[1])\n",
    "            print(\"cost of the item       : \",pdsp[2])\n",
    "            print(\"quantity required      : \",quantity)\n",
    "            print(\"-----------------------------------------\")\n",
    "            amount=int(quantity)*int(pdsp[2])\n",
    "            print(\"billing amount         : \",amount)\n",
    "            print(\"-----------------------------------------\")\n",
    "            pdsp[3]=str(int(pdsp[3])-int(quantity))\n",
    "            fd=open('sales.txt','a')\n",
    "            fd.write(\"Name of the customer: \"+name+\",\"+\"email address of the customer: \"+email+\",\"+\"phone number of the customer: \"+phone+\",\"+\"Name of the product: \"+pdsp[1]+\",\"+\"Billing Amount: \"+str(amount)+\",\"+\"date and time: \"+time.ctime()+\"\\n\")\n",
    "            fd.close()\n",
    "        else:\n",
    "            print(\"the item you are looking for is available\")\n",
    "            print(\"but we doesnot have that much quantity\")\n",
    "            print(\"we have only this much quantity : \",pdsp[3])\n",
    "            print(\"if you require them please select y or else n\")\n",
    "            ip=input()\n",
    "            if(ip==\"y\"  or ip==\"Y\"):\n",
    "                print(\"----------------------------------------\")\n",
    "                print(\"item bought            : \",pdsp[1])\n",
    "                print(\"cost of the item       : \",pdsp[2])\n",
    "                print(\"quantity required      : \",pdsp[3])\n",
    "                print(\"-----------------------------------------\")\n",
    "                amount=int(pdsp[3])*int(pdsp[2])\n",
    "                print(\"billing amount         : \",amount)\n",
    "                print(\"-----------------------------------------\")\n",
    "                pdsp[3]=\"0\"\n",
    "                fd=open('sales.txt','a')\n",
    "                fd.write(\"Name of the customer: \"+name+\",\"+\"email address of the customer: \"+email+\",\"+\"phone number of the customer: \"+phone+\",\"+\"Name of the product: \"+pdsp[1]+\",\"+\"Billing Amount: \"+str(amount)+\",\"+\"date and time: \"+time.ctime()+\"\\n\")\n",
    "                fd.close()\n",
    "            else:\n",
    "                print(\"sorry for the inconvience\")\n",
    "                \n",
    "    l.append(pdsp)\n",
    "             \n",
    "fd=open('produt.txt','w')\n",
    "for i in range(len(l)):\n",
    "    if(i==(len(l)-1)):\n",
    "        fd.write(l[i][0]+\",\"+l[i][1]+\",\"+l[i][2]+\",\"+l[i][3])\n",
    "    else:\n",
    "        fd.write(l[i][0]+\",\"+l[i][1]+\",\"+l[i][2]+\",\"+l[i][3]+\"\\n\")\n",
    "    \n",
    "fd.close()\n",
    "\n",
    "if(amount<=0):\n",
    "    print(\"the item you are looking for is not available in the store\")\n"
   ]
  },
  {
   "cell_type": "code",
   "execution_count": null,
   "id": "67f5d980",
   "metadata": {},
   "outputs": [],
   "source": []
  },
  {
   "cell_type": "code",
   "execution_count": null,
   "id": "075989ae",
   "metadata": {},
   "outputs": [],
   "source": []
  }
 ],
 "metadata": {
  "kernelspec": {
   "display_name": "Python 3 (ipykernel)",
   "language": "python",
   "name": "python3"
  },
  "language_info": {
   "codemirror_mode": {
    "name": "ipython",
    "version": 3
   },
   "file_extension": ".py",
   "mimetype": "text/x-python",
   "name": "python",
   "nbconvert_exporter": "python",
   "pygments_lexer": "ipython3",
   "version": "3.9.7"
  }
 },
 "nbformat": 4,
 "nbformat_minor": 5
}
